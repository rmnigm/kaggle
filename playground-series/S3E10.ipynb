{
  "nbformat": 4,
  "nbformat_minor": 0,
  "metadata": {
    "colab": {
      "provenance": []
    },
    "kernelspec": {
      "name": "python3",
      "display_name": "Python 3"
    },
    "language_info": {
      "name": "python"
    }
  },
  "cells": [
    {
      "cell_type": "code",
      "source": [
        "!pip install catboost"
      ],
      "metadata": {
        "id": "QL_z3KCDPB7g"
      },
      "execution_count": null,
      "outputs": []
    },
    {
      "cell_type": "code",
      "execution_count": 46,
      "metadata": {
        "id": "bY_ZmKlRK4zP"
      },
      "outputs": [],
      "source": [
        "import numpy as np\n",
        "import seaborn as sns\n",
        "import pandas as pd\n",
        "from sklearn.model_selection import train_test_split\n",
        "import torch\n",
        "import catboost\n",
        "\n",
        "import matplotlib.pyplot as plt"
      ]
    },
    {
      "cell_type": "code",
      "source": [
        "df = pd.read_csv('train.csv', index_col=0)"
      ],
      "metadata": {
        "id": "5rKwc5IFLDiI"
      },
      "execution_count": 11,
      "outputs": []
    },
    {
      "cell_type": "code",
      "source": [
        "df"
      ],
      "metadata": {
        "colab": {
          "base_uri": "https://localhost:8080/",
          "height": 450
        },
        "id": "WShZC03RLlx-",
        "outputId": "8d9991e6-5500-4533-8328-52ee617eb46f"
      },
      "execution_count": 21,
      "outputs": [
        {
          "output_type": "execute_result",
          "data": {
            "text/plain": [
              "        Mean_Integrated         SD        EK  Skewness  Mean_DMSNR_Curve  \\\n",
              "id                                                                         \n",
              "0            133.171875  59.716081  0.043133 -0.703383         54.917224   \n",
              "1             87.093750  36.257973  0.435469  2.266057          3.417224   \n",
              "2            112.640625  39.818393  0.379639  0.922306          2.730769   \n",
              "3            120.679688  45.918448 -0.098490  0.011775          2.696488   \n",
              "4            134.070312  57.720107 -0.107772 -0.573335          1.107860   \n",
              "...                 ...        ...       ...       ...               ...   \n",
              "117559       132.843750  56.748838 -0.060070 -0.554084          4.054348   \n",
              "117560       112.578125  52.539271  0.179580 -0.306961          1.637960   \n",
              "117561       119.757812  49.980013  0.064402 -0.270822          3.877926   \n",
              "117562       105.789062  46.986595  0.441426  0.372466          2.097826   \n",
              "117563       113.515625  50.935956  0.031517 -0.443831         23.290970   \n",
              "\n",
              "        SD_DMSNR_Curve  EK_DMSNR_Curve  Skewness_DMSNR_Curve  Class  \n",
              "id                                                                   \n",
              "0            70.084438        0.749798             -0.649512      0  \n",
              "1            21.865069        7.039330             52.686251      0  \n",
              "2            15.689690        8.193471             85.649785      0  \n",
              "3            20.954662        8.183874             70.332899      0  \n",
              "4            11.255051       16.107748            308.753765      0  \n",
              "...                ...             ...                   ...    ...  \n",
              "117559       27.844144        6.564423             44.442664      0  \n",
              "117560       15.331913       11.384718            142.535470      0  \n",
              "117561       19.788559        6.959740             56.367789      0  \n",
              "117562       17.170612        9.442445             99.074539      0  \n",
              "117563       62.006842        2.386364              4.001859      0  \n",
              "\n",
              "[117564 rows x 9 columns]"
            ],
            "text/html": [
              "\n",
              "  <div id=\"df-6d9e426b-6e65-453c-9aae-f13e0acc5014\">\n",
              "    <div class=\"colab-df-container\">\n",
              "      <div>\n",
              "<style scoped>\n",
              "    .dataframe tbody tr th:only-of-type {\n",
              "        vertical-align: middle;\n",
              "    }\n",
              "\n",
              "    .dataframe tbody tr th {\n",
              "        vertical-align: top;\n",
              "    }\n",
              "\n",
              "    .dataframe thead th {\n",
              "        text-align: right;\n",
              "    }\n",
              "</style>\n",
              "<table border=\"1\" class=\"dataframe\">\n",
              "  <thead>\n",
              "    <tr style=\"text-align: right;\">\n",
              "      <th></th>\n",
              "      <th>Mean_Integrated</th>\n",
              "      <th>SD</th>\n",
              "      <th>EK</th>\n",
              "      <th>Skewness</th>\n",
              "      <th>Mean_DMSNR_Curve</th>\n",
              "      <th>SD_DMSNR_Curve</th>\n",
              "      <th>EK_DMSNR_Curve</th>\n",
              "      <th>Skewness_DMSNR_Curve</th>\n",
              "      <th>Class</th>\n",
              "    </tr>\n",
              "    <tr>\n",
              "      <th>id</th>\n",
              "      <th></th>\n",
              "      <th></th>\n",
              "      <th></th>\n",
              "      <th></th>\n",
              "      <th></th>\n",
              "      <th></th>\n",
              "      <th></th>\n",
              "      <th></th>\n",
              "      <th></th>\n",
              "    </tr>\n",
              "  </thead>\n",
              "  <tbody>\n",
              "    <tr>\n",
              "      <th>0</th>\n",
              "      <td>133.171875</td>\n",
              "      <td>59.716081</td>\n",
              "      <td>0.043133</td>\n",
              "      <td>-0.703383</td>\n",
              "      <td>54.917224</td>\n",
              "      <td>70.084438</td>\n",
              "      <td>0.749798</td>\n",
              "      <td>-0.649512</td>\n",
              "      <td>0</td>\n",
              "    </tr>\n",
              "    <tr>\n",
              "      <th>1</th>\n",
              "      <td>87.093750</td>\n",
              "      <td>36.257973</td>\n",
              "      <td>0.435469</td>\n",
              "      <td>2.266057</td>\n",
              "      <td>3.417224</td>\n",
              "      <td>21.865069</td>\n",
              "      <td>7.039330</td>\n",
              "      <td>52.686251</td>\n",
              "      <td>0</td>\n",
              "    </tr>\n",
              "    <tr>\n",
              "      <th>2</th>\n",
              "      <td>112.640625</td>\n",
              "      <td>39.818393</td>\n",
              "      <td>0.379639</td>\n",
              "      <td>0.922306</td>\n",
              "      <td>2.730769</td>\n",
              "      <td>15.689690</td>\n",
              "      <td>8.193471</td>\n",
              "      <td>85.649785</td>\n",
              "      <td>0</td>\n",
              "    </tr>\n",
              "    <tr>\n",
              "      <th>3</th>\n",
              "      <td>120.679688</td>\n",
              "      <td>45.918448</td>\n",
              "      <td>-0.098490</td>\n",
              "      <td>0.011775</td>\n",
              "      <td>2.696488</td>\n",
              "      <td>20.954662</td>\n",
              "      <td>8.183874</td>\n",
              "      <td>70.332899</td>\n",
              "      <td>0</td>\n",
              "    </tr>\n",
              "    <tr>\n",
              "      <th>4</th>\n",
              "      <td>134.070312</td>\n",
              "      <td>57.720107</td>\n",
              "      <td>-0.107772</td>\n",
              "      <td>-0.573335</td>\n",
              "      <td>1.107860</td>\n",
              "      <td>11.255051</td>\n",
              "      <td>16.107748</td>\n",
              "      <td>308.753765</td>\n",
              "      <td>0</td>\n",
              "    </tr>\n",
              "    <tr>\n",
              "      <th>...</th>\n",
              "      <td>...</td>\n",
              "      <td>...</td>\n",
              "      <td>...</td>\n",
              "      <td>...</td>\n",
              "      <td>...</td>\n",
              "      <td>...</td>\n",
              "      <td>...</td>\n",
              "      <td>...</td>\n",
              "      <td>...</td>\n",
              "    </tr>\n",
              "    <tr>\n",
              "      <th>117559</th>\n",
              "      <td>132.843750</td>\n",
              "      <td>56.748838</td>\n",
              "      <td>-0.060070</td>\n",
              "      <td>-0.554084</td>\n",
              "      <td>4.054348</td>\n",
              "      <td>27.844144</td>\n",
              "      <td>6.564423</td>\n",
              "      <td>44.442664</td>\n",
              "      <td>0</td>\n",
              "    </tr>\n",
              "    <tr>\n",
              "      <th>117560</th>\n",
              "      <td>112.578125</td>\n",
              "      <td>52.539271</td>\n",
              "      <td>0.179580</td>\n",
              "      <td>-0.306961</td>\n",
              "      <td>1.637960</td>\n",
              "      <td>15.331913</td>\n",
              "      <td>11.384718</td>\n",
              "      <td>142.535470</td>\n",
              "      <td>0</td>\n",
              "    </tr>\n",
              "    <tr>\n",
              "      <th>117561</th>\n",
              "      <td>119.757812</td>\n",
              "      <td>49.980013</td>\n",
              "      <td>0.064402</td>\n",
              "      <td>-0.270822</td>\n",
              "      <td>3.877926</td>\n",
              "      <td>19.788559</td>\n",
              "      <td>6.959740</td>\n",
              "      <td>56.367789</td>\n",
              "      <td>0</td>\n",
              "    </tr>\n",
              "    <tr>\n",
              "      <th>117562</th>\n",
              "      <td>105.789062</td>\n",
              "      <td>46.986595</td>\n",
              "      <td>0.441426</td>\n",
              "      <td>0.372466</td>\n",
              "      <td>2.097826</td>\n",
              "      <td>17.170612</td>\n",
              "      <td>9.442445</td>\n",
              "      <td>99.074539</td>\n",
              "      <td>0</td>\n",
              "    </tr>\n",
              "    <tr>\n",
              "      <th>117563</th>\n",
              "      <td>113.515625</td>\n",
              "      <td>50.935956</td>\n",
              "      <td>0.031517</td>\n",
              "      <td>-0.443831</td>\n",
              "      <td>23.290970</td>\n",
              "      <td>62.006842</td>\n",
              "      <td>2.386364</td>\n",
              "      <td>4.001859</td>\n",
              "      <td>0</td>\n",
              "    </tr>\n",
              "  </tbody>\n",
              "</table>\n",
              "<p>117564 rows × 9 columns</p>\n",
              "</div>\n",
              "      <button class=\"colab-df-convert\" onclick=\"convertToInteractive('df-6d9e426b-6e65-453c-9aae-f13e0acc5014')\"\n",
              "              title=\"Convert this dataframe to an interactive table.\"\n",
              "              style=\"display:none;\">\n",
              "        \n",
              "  <svg xmlns=\"http://www.w3.org/2000/svg\" height=\"24px\"viewBox=\"0 0 24 24\"\n",
              "       width=\"24px\">\n",
              "    <path d=\"M0 0h24v24H0V0z\" fill=\"none\"/>\n",
              "    <path d=\"M18.56 5.44l.94 2.06.94-2.06 2.06-.94-2.06-.94-.94-2.06-.94 2.06-2.06.94zm-11 1L8.5 8.5l.94-2.06 2.06-.94-2.06-.94L8.5 2.5l-.94 2.06-2.06.94zm10 10l.94 2.06.94-2.06 2.06-.94-2.06-.94-.94-2.06-.94 2.06-2.06.94z\"/><path d=\"M17.41 7.96l-1.37-1.37c-.4-.4-.92-.59-1.43-.59-.52 0-1.04.2-1.43.59L10.3 9.45l-7.72 7.72c-.78.78-.78 2.05 0 2.83L4 21.41c.39.39.9.59 1.41.59.51 0 1.02-.2 1.41-.59l7.78-7.78 2.81-2.81c.8-.78.8-2.07 0-2.86zM5.41 20L4 18.59l7.72-7.72 1.47 1.35L5.41 20z\"/>\n",
              "  </svg>\n",
              "      </button>\n",
              "      \n",
              "  <style>\n",
              "    .colab-df-container {\n",
              "      display:flex;\n",
              "      flex-wrap:wrap;\n",
              "      gap: 12px;\n",
              "    }\n",
              "\n",
              "    .colab-df-convert {\n",
              "      background-color: #E8F0FE;\n",
              "      border: none;\n",
              "      border-radius: 50%;\n",
              "      cursor: pointer;\n",
              "      display: none;\n",
              "      fill: #1967D2;\n",
              "      height: 32px;\n",
              "      padding: 0 0 0 0;\n",
              "      width: 32px;\n",
              "    }\n",
              "\n",
              "    .colab-df-convert:hover {\n",
              "      background-color: #E2EBFA;\n",
              "      box-shadow: 0px 1px 2px rgba(60, 64, 67, 0.3), 0px 1px 3px 1px rgba(60, 64, 67, 0.15);\n",
              "      fill: #174EA6;\n",
              "    }\n",
              "\n",
              "    [theme=dark] .colab-df-convert {\n",
              "      background-color: #3B4455;\n",
              "      fill: #D2E3FC;\n",
              "    }\n",
              "\n",
              "    [theme=dark] .colab-df-convert:hover {\n",
              "      background-color: #434B5C;\n",
              "      box-shadow: 0px 1px 3px 1px rgba(0, 0, 0, 0.15);\n",
              "      filter: drop-shadow(0px 1px 2px rgba(0, 0, 0, 0.3));\n",
              "      fill: #FFFFFF;\n",
              "    }\n",
              "  </style>\n",
              "\n",
              "      <script>\n",
              "        const buttonEl =\n",
              "          document.querySelector('#df-6d9e426b-6e65-453c-9aae-f13e0acc5014 button.colab-df-convert');\n",
              "        buttonEl.style.display =\n",
              "          google.colab.kernel.accessAllowed ? 'block' : 'none';\n",
              "\n",
              "        async function convertToInteractive(key) {\n",
              "          const element = document.querySelector('#df-6d9e426b-6e65-453c-9aae-f13e0acc5014');\n",
              "          const dataTable =\n",
              "            await google.colab.kernel.invokeFunction('convertToInteractive',\n",
              "                                                     [key], {});\n",
              "          if (!dataTable) return;\n",
              "\n",
              "          const docLinkHtml = 'Like what you see? Visit the ' +\n",
              "            '<a target=\"_blank\" href=https://colab.research.google.com/notebooks/data_table.ipynb>data table notebook</a>'\n",
              "            + ' to learn more about interactive tables.';\n",
              "          element.innerHTML = '';\n",
              "          dataTable['output_type'] = 'display_data';\n",
              "          await google.colab.output.renderOutput(dataTable, element);\n",
              "          const docLink = document.createElement('div');\n",
              "          docLink.innerHTML = docLinkHtml;\n",
              "          element.appendChild(docLink);\n",
              "        }\n",
              "      </script>\n",
              "    </div>\n",
              "  </div>\n",
              "  "
            ]
          },
          "metadata": {},
          "execution_count": 21
        }
      ]
    },
    {
      "cell_type": "code",
      "source": [
        "def plot_hists(X1, X2, names, label1, label2, bins=np.linspace(-3, 3, 61)):\n",
        "    plt.figure(figsize=(4 * 3, 4 * 2))\n",
        "    for i in range(X1.shape[1]):\n",
        "        plt.subplot(3, 3, i + 1)\n",
        "        plt.grid()\n",
        "        plt.hist(X1[:, i], bins=bins, alpha=0.3, label=label1, color=\"C4\")\n",
        "        plt.hist(X2[:, i], bins=bins, alpha=0.5, label=label2, color=\"C0\")\n",
        "        plt.xlabel(names[i], size=14)\n",
        "        plt.legend(loc=\"best\")\n",
        "    plt.tight_layout()"
      ],
      "metadata": {
        "id": "MWeOwClGLmSx"
      },
      "execution_count": 40,
      "outputs": []
    },
    {
      "cell_type": "code",
      "source": [
        "X = df.drop(columns=['Class']).values\n",
        "\n",
        "y = df.Class.values\n",
        "names = df.columns"
      ],
      "metadata": {
        "id": "PRYsRKIkLvw_"
      },
      "execution_count": 41,
      "outputs": []
    },
    {
      "cell_type": "code",
      "source": [
        "plot_hists(X[y == 0],\n",
        "           X[y == 1],\n",
        "           names,\n",
        "           label1=\"0 class\",\n",
        "           label2=\"1 class\",\n",
        "           bins=50)"
      ],
      "metadata": {
        "colab": {
          "base_uri": "https://localhost:8080/",
          "height": 585
        },
        "id": "D4NKVrbpNdnh",
        "outputId": "a9671546-a134-42d7-d8be-b26c34c599b6"
      },
      "execution_count": 42,
      "outputs": [
        {
          "output_type": "display_data",
          "data": {
            "text/plain": [
              "<Figure size 864x576 with 8 Axes>"
            ],
            "image/png": "[encoded data removed]"
          },
          "metadata": {
            "needs_background": "light"
          }
        }
      ]
    },
    {
      "cell_type": "code",
      "source": [
        "boost = catboost.CatBoostClassifier(learning_rate=0.02)"
      ],
      "metadata": {
        "id": "K6O3T2qKh8VA"
      },
      "execution_count": 89,
      "outputs": []
    },
    {
      "cell_type": "code",
      "source": [
        "X_train, X_val, y_train, y_val = train_test_split(X, y, test_size = 0.25)\n",
        "boost.fit(X_train,\n",
        "          y_train,\n",
        "          eval_set=(X_val, y_val))"
      ],
      "metadata": {
        "id": "0Pnkzn8FNiCE"
      },
      "execution_count": null,
      "outputs": []
    },
    {
      "cell_type": "code",
      "source": [
        "from sklearn.metrics import log_loss\n",
        "\n",
        "val_preds = boost.predict_proba(X_val)[:, 1]\n",
        "log_loss(y_val, val_preds)"
      ],
      "metadata": {
        "colab": {
          "base_uri": "https://localhost:8080/"
        },
        "id": "zB-hjaNaP9Jt",
        "outputId": "3643306f-6d48-4485-97a4-d5d8086f4ae1"
      },
      "execution_count": 110,
      "outputs": [
        {
          "output_type": "execute_result",
          "data": {
            "text/plain": [
              "0.03041634269987944"
            ]
          },
          "metadata": {},
          "execution_count": 110
        }
      ]
    },
    {
      "cell_type": "code",
      "source": [
        "test_df = pd.read_csv('test.csv', index_col=0)\n",
        "\n",
        "test_X = test_df.values\n",
        "\n",
        "names = df.columns\n",
        "\n",
        "plot_hists(test_X,\n",
        "           test_X,\n",
        "           names,\n",
        "           label1=\"0 class\",\n",
        "           label2=\"1 class\",\n",
        "           bins=50)"
      ],
      "metadata": {
        "colab": {
          "base_uri": "https://localhost:8080/",
          "height": 585
        },
        "id": "J2ZT0jrFQG0w",
        "outputId": "2e826597-7efb-4e0a-ee0d-7d34b457aaba"
      },
      "execution_count": 96,
      "outputs": [
        {
          "output_type": "display_data",
          "data": {
            "text/plain": [
              "<Figure size 864x576 with 8 Axes>"
            ],
            "image/png": "[encoded data removed]"
          },
          "metadata": {
            "needs_background": "light"
          }
        }
      ]
    },
    {
      "cell_type": "code",
      "source": [
        "preds = boost.predict_proba(test_df.values)[:,1]"
      ],
      "metadata": {
        "id": "6X9htKSsQMjA"
      },
      "execution_count": 107,
      "outputs": []
    },
    {
      "cell_type": "code",
      "source": [
        "pd.read_csv('sample_submission.csv').head(3)"
      ],
      "metadata": {
        "colab": {
          "base_uri": "https://localhost:8080/",
          "height": 142
        },
        "id": "aKAEz8MkQOe1",
        "outputId": "ae2cb0de-bb97-454c-e9b8-675cc09e5b90"
      },
      "execution_count": 108,
      "outputs": [
        {
          "output_type": "execute_result",
          "data": {
            "text/plain": [
              "       id  Class\n",
              "0  117564    0.5\n",
              "1  117565    0.5\n",
              "2  117566    0.5"
            ],
            "text/html": [
              "\n",
              "  <div id=\"df-c8a6d4c9-47ec-4e7e-a6d0-083d9f0f2129\">\n",
              "    <div class=\"colab-df-container\">\n",
              "      <div>\n",
              "<style scoped>\n",
              "    .dataframe tbody tr th:only-of-type {\n",
              "        vertical-align: middle;\n",
              "    }\n",
              "\n",
              "    .dataframe tbody tr th {\n",
              "        vertical-align: top;\n",
              "    }\n",
              "\n",
              "    .dataframe thead th {\n",
              "        text-align: right;\n",
              "    }\n",
              "</style>\n",
              "<table border=\"1\" class=\"dataframe\">\n",
              "  <thead>\n",
              "    <tr style=\"text-align: right;\">\n",
              "      <th></th>\n",
              "      <th>id</th>\n",
              "      <th>Class</th>\n",
              "    </tr>\n",
              "  </thead>\n",
              "  <tbody>\n",
              "    <tr>\n",
              "      <th>0</th>\n",
              "      <td>117564</td>\n",
              "      <td>0.5</td>\n",
              "    </tr>\n",
              "    <tr>\n",
              "      <th>1</th>\n",
              "      <td>117565</td>\n",
              "      <td>0.5</td>\n",
              "    </tr>\n",
              "    <tr>\n",
              "      <th>2</th>\n",
              "      <td>117566</td>\n",
              "      <td>0.5</td>\n",
              "    </tr>\n",
              "  </tbody>\n",
              "</table>\n",
              "</div>\n",
              "      <button class=\"colab-df-convert\" onclick=\"convertToInteractive('df-c8a6d4c9-47ec-4e7e-a6d0-083d9f0f2129')\"\n",
              "              title=\"Convert this dataframe to an interactive table.\"\n",
              "              style=\"display:none;\">\n",
              "        \n",
              "  <svg xmlns=\"http://www.w3.org/2000/svg\" height=\"24px\"viewBox=\"0 0 24 24\"\n",
              "       width=\"24px\">\n",
              "    <path d=\"M0 0h24v24H0V0z\" fill=\"none\"/>\n",
              "    <path d=\"M18.56 5.44l.94 2.06.94-2.06 2.06-.94-2.06-.94-.94-2.06-.94 2.06-2.06.94zm-11 1L8.5 8.5l.94-2.06 2.06-.94-2.06-.94L8.5 2.5l-.94 2.06-2.06.94zm10 10l.94 2.06.94-2.06 2.06-.94-2.06-.94-.94-2.06-.94 2.06-2.06.94z\"/><path d=\"M17.41 7.96l-1.37-1.37c-.4-.4-.92-.59-1.43-.59-.52 0-1.04.2-1.43.59L10.3 9.45l-7.72 7.72c-.78.78-.78 2.05 0 2.83L4 21.41c.39.39.9.59 1.41.59.51 0 1.02-.2 1.41-.59l7.78-7.78 2.81-2.81c.8-.78.8-2.07 0-2.86zM5.41 20L4 18.59l7.72-7.72 1.47 1.35L5.41 20z\"/>\n",
              "  </svg>\n",
              "      </button>\n",
              "      \n",
              "  <style>\n",
              "    .colab-df-container {\n",
              "      display:flex;\n",
              "      flex-wrap:wrap;\n",
              "      gap: 12px;\n",
              "    }\n",
              "\n",
              "    .colab-df-convert {\n",
              "      background-color: #E8F0FE;\n",
              "      border: none;\n",
              "      border-radius: 50%;\n",
              "      cursor: pointer;\n",
              "      display: none;\n",
              "      fill: #1967D2;\n",
              "      height: 32px;\n",
              "      padding: 0 0 0 0;\n",
              "      width: 32px;\n",
              "    }\n",
              "\n",
              "    .colab-df-convert:hover {\n",
              "      background-color: #E2EBFA;\n",
              "      box-shadow: 0px 1px 2px rgba(60, 64, 67, 0.3), 0px 1px 3px 1px rgba(60, 64, 67, 0.15);\n",
              "      fill: #174EA6;\n",
              "    }\n",
              "\n",
              "    [theme=dark] .colab-df-convert {\n",
              "      background-color: #3B4455;\n",
              "      fill: #D2E3FC;\n",
              "    }\n",
              "\n",
              "    [theme=dark] .colab-df-convert:hover {\n",
              "      background-color: #434B5C;\n",
              "      box-shadow: 0px 1px 3px 1px rgba(0, 0, 0, 0.15);\n",
              "      filter: drop-shadow(0px 1px 2px rgba(0, 0, 0, 0.3));\n",
              "      fill: #FFFFFF;\n",
              "    }\n",
              "  </style>\n",
              "\n",
              "      <script>\n",
              "        const buttonEl =\n",
              "          document.querySelector('#df-c8a6d4c9-47ec-4e7e-a6d0-083d9f0f2129 button.colab-df-convert');\n",
              "        buttonEl.style.display =\n",
              "          google.colab.kernel.accessAllowed ? 'block' : 'none';\n",
              "\n",
              "        async function convertToInteractive(key) {\n",
              "          const element = document.querySelector('#df-c8a6d4c9-47ec-4e7e-a6d0-083d9f0f2129');\n",
              "          const dataTable =\n",
              "            await google.colab.kernel.invokeFunction('convertToInteractive',\n",
              "                                                     [key], {});\n",
              "          if (!dataTable) return;\n",
              "\n",
              "          const docLinkHtml = 'Like what you see? Visit the ' +\n",
              "            '<a target=\"_blank\" href=https://colab.research.google.com/notebooks/data_table.ipynb>data table notebook</a>'\n",
              "            + ' to learn more about interactive tables.';\n",
              "          element.innerHTML = '';\n",
              "          dataTable['output_type'] = 'display_data';\n",
              "          await google.colab.output.renderOutput(dataTable, element);\n",
              "          const docLink = document.createElement('div');\n",
              "          docLink.innerHTML = docLinkHtml;\n",
              "          element.appendChild(docLink);\n",
              "        }\n",
              "      </script>\n",
              "    </div>\n",
              "  </div>\n",
              "  "
            ]
          },
          "metadata": {},
          "execution_count": 108
        }
      ]
    },
    {
      "cell_type": "code",
      "source": [
        "submission = pd.DataFrame(test_df.index)\n",
        "submission['Class'] = preds\n",
        "submission.to_csv('submission.csv', index=False)"
      ],
      "metadata": {
        "id": "yksNmTS0Q8_B"
      },
      "execution_count": 109,
      "outputs": []
    }
  ]
}